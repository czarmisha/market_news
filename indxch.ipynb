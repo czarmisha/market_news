{
 "cells": [
  {
   "cell_type": "code",
   "execution_count": null,
   "metadata": {},
   "outputs": [],
   "source": [
    "\"\"\"\n",
    "год брать из даты\n",
    "дата в новости должна быть больше сегодняшней. \n",
    "если дата новости 22год декабрь, а в новости дата январь 5, то нужно проверить месяц в новости если меньше то год + 1\n",
    "формат даты в основном  Thursday, December 22  February 6\n",
    "\n",
    "искать совпадения во всем тексте новости по:\n",
    "effective prior to the opening of trading on\n",
    "prior to the open on\n",
    "post close on /// не надо наверн\n",
    "\"\"\""
   ]
  },
  {
   "cell_type": "code",
   "execution_count": 1,
   "metadata": {},
   "outputs": [],
   "source": [
    "import time\n",
    "from bs4 import BeautifulSoup\n",
    "from selenium import webdriver\n",
    "from selenium.webdriver.firefox.options import Options as FirefoxOptions\n",
    "\n",
    "# from config import urls\n",
    "\n",
    "\n",
    "options = FirefoxOptions()\n",
    "driver = webdriver.Firefox(options=options)\n",
    "driver.set_window_size(1500, 1200)\n",
    "driver.get('https://www.briefing.com')\n",
    "\n",
    "\n",
    "class BriefingParser:\n",
    "    def __init__(self, url_string):\n",
    "        self.target_url = 'https://www.briefing.com/InPlayEq/InPlay/InPlay.htm'\n",
    "        self.driver = driver\n",
    "        self.html_text, self.soup = '', ''\n",
    "        self.get_html_text()\n",
    "        self.target_url = url_string\n",
    "        self.get_html_text()\n",
    "        self.get_soup()\n",
    "\n",
    "    def set_new_url(self, new_url):\n",
    "        self.target_url = new_url\n",
    "        self.get_html_text()\n",
    "        self.get_soup()\n",
    "\n",
    "    def get_html_text(self):\n",
    "        self.driver.get(self.target_url)\n",
    "        time.sleep(5)\n",
    "        self.html_text = self.driver.execute_script(\"return document.getElementsByTagName('html')[0].innerHTML\")\n",
    "\n",
    "    def get_soup(self):\n",
    "        self.soup = BeautifulSoup(self.html_text, \"html.parser\")\n"
   ]
  },
  {
   "cell_type": "code",
   "execution_count": null,
   "metadata": {},
   "outputs": [],
   "source": [
    "def main():\n",
    "    parser = BriefingParser('https://www.briefing.com/InPlayEq/Search/Ticker.htm?ticker=INDXCH')\n",
    "\n",
    "\n",
    "main()"
   ]
  },
  {
   "cell_type": "code",
   "execution_count": 11,
   "metadata": {},
   "outputs": [
    {
     "name": "stdout",
     "output_type": "stream",
     "text": [
      "2023-03-23 00:00:00 2023-03-23 00:00:00\n"
     ]
    }
   ],
   "source": [
    "import datetime\n",
    "now = datetime.datetime.now().replace(hour=0, minute=0, second=0, microsecond=0)\n",
    "today = now.strftime(\"%Y-%m-%d\") \n",
    "today = datetime.datetime.strptime(today, \"%Y-%m-%d\")\n",
    "print(now, today)"
   ]
  },
  {
   "cell_type": "code",
   "execution_count": 22,
   "metadata": {},
   "outputs": [
    {
     "data": {
      "text/plain": [
       "3"
      ]
     },
     "execution_count": 22,
     "metadata": {},
     "output_type": "execute_result"
    }
   ],
   "source": [
    "now = datetime.datetime.now() # datetime\n",
    "today = now.strftime(\"%Y-%m-%d\")\n",
    "today = datetime.datetime.strptime(today, \"%Y-%m-%d\") \n",
    "today.month"
   ]
  },
  {
   "cell_type": "code",
   "execution_count": 18,
   "metadata": {},
   "outputs": [
    {
     "data": {
      "text/plain": [
       "['asd', '', 'asd2', '']"
      ]
     },
     "execution_count": 18,
     "metadata": {},
     "output_type": "execute_result"
    }
   ],
   "source": [
    "'asd  asd2 '.split(' ')"
   ]
  },
  {
   "cell_type": "code",
   "execution_count": 20,
   "metadata": {},
   "outputs": [
    {
     "name": "stdout",
     "output_type": "stream",
     "text": [
      "5\n",
      "4\n",
      "3\n",
      "2\n"
     ]
    }
   ],
   "source": [
    "for i in range(5,1,-1):\n",
    "    print(i)"
   ]
  },
  {
   "cell_type": "code",
   "execution_count": 21,
   "metadata": {},
   "outputs": [
    {
     "data": {
      "text/plain": [
       "'2023'"
      ]
     },
     "execution_count": 21,
     "metadata": {},
     "output_type": "execute_result"
    }
   ],
   "source": [
    "now = datetime.datetime.now() # datetime\n",
    "today = now.strftime(\"%Y-%m-%d\") \n",
    "today = datetime.datetime.strptime(today, \"%Y-%m-%d\") \n",
    "week_now = now.strftime(\"%A\")\n",
    "year_now = now.strftime(\"%Y\")\n",
    "year_now"
   ]
  },
  {
   "cell_type": "code",
   "execution_count": 24,
   "metadata": {},
   "outputs": [
    {
     "data": {
      "text/plain": [
       "12"
      ]
     },
     "execution_count": 24,
     "metadata": {},
     "output_type": "execute_result"
    }
   ],
   "source": [
    "datetime.datetime.strptime('2023-12-01', \"%Y-%m-%d\").month"
   ]
  },
  {
   "cell_type": "code",
   "execution_count": 12,
   "metadata": {},
   "outputs": [],
   "source": [
    "import yfinance as yf"
   ]
  },
  {
   "cell_type": "code",
   "execution_count": 13,
   "metadata": {},
   "outputs": [],
   "source": [
    "today_data = yf.Ticker('AAPL').history(period='max', interval='1m', prepost=True).reset_index()"
   ]
  },
  {
   "cell_type": "code",
   "execution_count": 26,
   "metadata": {},
   "outputs": [
    {
     "data": {
      "text/plain": [
       "37575742"
      ]
     },
     "execution_count": 26,
     "metadata": {},
     "output_type": "execute_result"
    }
   ],
   "source": [
    "import pandas as pd\n",
    "premarket_start_dt = datetime.datetime.now().replace(hour=4, minute=0, second=0, microsecond=0)\n",
    "today_data[today_data.Datetime >= pd.Timestamp(premarket_start_dt, tz='America/New_York')].Volume.sum()"
   ]
  },
  {
   "cell_type": "code",
   "execution_count": 21,
   "metadata": {},
   "outputs": [
    {
     "data": {
      "text/plain": [
       "datetime.datetime(2023, 3, 23, 4, 0)"
      ]
     },
     "execution_count": 21,
     "metadata": {},
     "output_type": "execute_result"
    }
   ],
   "source": [
    "now = datetime.datetime.now()\n",
    "now_date = now.date()\n",
    "now_time = datetime.time(hour=4, minute=0, second=0, microsecond=0)\n",
    "datetime.datetime.combine(now_date, now_time)"
   ]
  },
  {
   "cell_type": "code",
   "execution_count": 48,
   "metadata": {},
   "outputs": [
    {
     "name": "stdout",
     "output_type": "stream",
     "text": [
      "35.21M\n"
     ]
    }
   ],
   "source": [
    "a = '35214859'\n",
    "if len(a) < 7:\n",
    "    print(f'{round(int(a) / 1000, 2)}k')\n",
    "elif len(a) >=7:\n",
    "    print(f'{round(int(a) / 1000000, 2)}M')\n"
   ]
  },
  {
   "cell_type": "code",
   "execution_count": 49,
   "metadata": {},
   "outputs": [],
   "source": [
    "data = {'GapUp': {'CSIQ': '+15.9% (1M)', 'ONON': '+25.2% (100.0K)'}, 'GapDown': {'HUYA': '-15.1% (100.0K)', 'TME': '-9.1% (100.0K)'}}"
   ]
  },
  {
   "cell_type": "code",
   "execution_count": 63,
   "metadata": {},
   "outputs": [],
   "source": [
    "data = {\n",
    "        'GapUp': {},\n",
    "        'GapDown': {} \n",
    "    }"
   ]
  },
  {
   "cell_type": "code",
   "execution_count": 64,
   "metadata": {},
   "outputs": [
    {
     "data": {
      "text/plain": [
       "{}"
      ]
     },
     "execution_count": 64,
     "metadata": {},
     "output_type": "execute_result"
    }
   ],
   "source": [
    "dict(sorted(data['GapUp'].items(), key=lambda x: x[1].split('%')[0], reverse=True))"
   ]
  },
  {
   "cell_type": "code",
   "execution_count": 65,
   "metadata": {},
   "outputs": [
    {
     "data": {
      "text/plain": [
       "{}"
      ]
     },
     "execution_count": 65,
     "metadata": {},
     "output_type": "execute_result"
    }
   ],
   "source": [
    "dict(sorted(data['GapDown'].items(), key=lambda x: x[1].split('%')[0]))"
   ]
  },
  {
   "cell_type": "code",
   "execution_count": null,
   "metadata": {},
   "outputs": [],
   "source": []
  }
 ],
 "metadata": {
  "kernelspec": {
   "display_name": "venv",
   "language": "python",
   "name": "python3"
  },
  "language_info": {
   "codemirror_mode": {
    "name": "ipython",
    "version": 3
   },
   "file_extension": ".py",
   "mimetype": "text/x-python",
   "name": "python",
   "nbconvert_exporter": "python",
   "pygments_lexer": "ipython3",
   "version": "3.10.1"
  },
  "orig_nbformat": 4
 },
 "nbformat": 4,
 "nbformat_minor": 2
}
